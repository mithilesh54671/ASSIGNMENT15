{
 "cells": [
  {
   "cell_type": "markdown",
   "id": "461d66d3-06c7-4da2-b57e-cc53f34c0ab8",
   "metadata": {},
   "source": [
    "Q1. What is an API? Give an example, where an API is used in real life."
   ]
  },
  {
   "cell_type": "markdown",
   "id": "abe96dd9-b9b0-46e0-9509-306f4071c033",
   "metadata": {},
   "source": [
    "In practice, an API can be used to connect virtually any processes. Here are a few common examples of APIs: Sharing flight information between airlines and travel sites. Using Google Maps in a rideshare app."
   ]
  },
  {
   "cell_type": "markdown",
   "id": "c534aea1-ee40-433d-a0c2-2bf3e849aac9",
   "metadata": {},
   "source": [
    "Q2. Give advantages and disadvantages of using API."
   ]
  },
  {
   "cell_type": "markdown",
   "id": "55f11fa9-ea07-4e19-ba00-f1be6f54e2fc",
   "metadata": {},
   "source": [
    "The future of APIs (Application Programming Interfaces) looks promising, as recent advancements indicate API solutions hold great value in the future of healthcare. For API to continue to take hold of the healthcare industry advancements will continue to be made. Review some of the current API advantages and disadvantages :"
   ]
  },
  {
   "cell_type": "markdown",
   "id": "04663c35-4d8d-4918-b270-bd559495e5c4",
   "metadata": {},
   "source": [
    "Advantages:\n",
    "    Increased Interoperability: API solutions enable different software systems to communicate with each other, regardless of their programming language or platform. This enhances the interoperability between systems, allowing for the exchange of data and functionality.\n",
    "    Improved Efficiency: API driven infrastructures enable developers to reuse code and functionality from existing software systems, saving time and reducing the amount of code that needs to be written from scratch.\n",
    "    Better User Experience: APIs can enable third-party developers to create applications that integrate with existing software systems, providing a better user experience and increased functionality."
   ]
  },
  {
   "cell_type": "markdown",
   "id": "273563f8-b473-47aa-aef0-f257d1615aa1",
   "metadata": {},
   "source": [
    "Disadvantage:\n",
    "    Security Concerns: API infrastructures can be vulnerable to security breaches, such as SQL injection attacks and cross-site scripting (XSS) attacks, making it crucial to implement security measures to protect against these threats.\n",
    "    Complexity: APIs can be complex, requiring a significant amount of development effort to implement and maintain.\n",
    "    Compatibility Issues: APIs can have compatibility issues between different versions of the same software system or between different systems, which can lead to errors and system failures.\n",
    "    Dependency on Third-Party Developers: APIs rely on third-party developers to create applications that integrate with the software system. This can create dependencies that are outside of the control of the company that owns the software system."
   ]
  },
  {
   "cell_type": "markdown",
   "id": "337a95d5-9aad-4314-90f6-89797d55ba14",
   "metadata": {},
   "source": [
    "Q3. What is a Web API? Differentiate between API and Web API."
   ]
  },
  {
   "cell_type": "markdown",
   "id": "d5d2054a-a6b0-4c71-a0ad-122cfb3d4a31",
   "metadata": {},
   "source": [
    "API is an interface that exposes an application's data to outside software, whereas web applications are one type of API with stricter requirements. These requirements include network communication, SOAP as the primary protocol, and less accessibility for the public."
   ]
  },
  {
   "cell_type": "markdown",
   "id": "4585cae2-5f4d-4415-b7ca-57049785250f",
   "metadata": {},
   "source": [
    "Q4. Explain REST and SOAP Architecture. Mention shortcomings of SOAP."
   ]
  },
  {
   "cell_type": "markdown",
   "id": "949de531-d272-4c2d-990c-0d2a68f93bfc",
   "metadata": {},
   "source": [
    "SOAP supports only XML data exchange. REST supports XML, JSON, plain text, HTML. SOAP messages are larger, which makes communication slower. REST has faster performance due to smaller messages and caching support."
   ]
  },
  {
   "cell_type": "code",
   "execution_count": null,
   "id": "b60c110e-62ca-431d-9b2b-62326b93d1f6",
   "metadata": {},
   "outputs": [],
   "source": []
  }
 ],
 "metadata": {
  "kernelspec": {
   "display_name": "Python 3 (ipykernel)",
   "language": "python",
   "name": "python3"
  },
  "language_info": {
   "codemirror_mode": {
    "name": "ipython",
    "version": 3
   },
   "file_extension": ".py",
   "mimetype": "text/x-python",
   "name": "python",
   "nbconvert_exporter": "python",
   "pygments_lexer": "ipython3",
   "version": "3.10.8"
  }
 },
 "nbformat": 4,
 "nbformat_minor": 5
}
